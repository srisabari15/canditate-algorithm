{
  "nbformat": 4,
  "nbformat_minor": 0,
  "metadata": {
    "colab": {
      "provenance": []
    },
    "kernelspec": {
      "name": "python3",
      "display_name": "Python 3"
    },
    "language_info": {
      "name": "python"
    }
  },
  "cells": [
    {
      "cell_type": "code",
      "execution_count": 1,
      "metadata": {
        "id": "_7p9Q9uX9Wvt"
      },
      "outputs": [],
      "source": [
        "import numpy as np\n",
        "import pandas as pd"
      ]
    },
    {
      "cell_type": "code",
      "source": [
        "data = pd.DataFrame(data=pd.read_csv('candidate.csv'))\n",
        "concepts = np.array(data.iloc[:,:-1])\n",
        "print(\"Concepts=\",concepts)\n",
        "target = np.array(data.iloc[:,-1])\n",
        "print(\"Target=\",target)"
      ],
      "metadata": {
        "colab": {
          "base_uri": "https://localhost:8080/"
        },
        "id": "kzacJq1O9oE8",
        "outputId": "c5ad1953-46f3-4b80-c982-59c97524c1be"
      },
      "execution_count": 3,
      "outputs": [
        {
          "output_type": "stream",
          "name": "stdout",
          "text": [
            "Concepts= [['Sunny' 'Warm' 'Normal' 'Strong' 'Warm' 'Same']\n",
            " ['Sunny' 'Warm' 'High' 'Strong' 'Warm' 'Same']\n",
            " ['Rain' 'Cold' 'High' 'Strong' 'Warm' 'Change']\n",
            " ['Sunny' 'Warm' 'High' 'Strong' 'Cool' 'Change']]\n",
            "Target= ['Yes' 'Yes' 'No' 'Yes']\n"
          ]
        }
      ]
    },
    {
      "cell_type": "code",
      "source": [
        "def learn(concepts,target):\n",
        " specific_h=concepts[0].copy()\n",
        " print(\"Initialization of Specific_h and General_h\")\n",
        " print(\"specific_h=\",specific_h)\n",
        " general_h = [[\"?\" for i in range(len(specific_h))] for i in range(len(specific_h))]\n",
        " print(\"general_h=\",general_h)\n",
        "\n",
        " for i, h in enumerate(concepts):\n",
        "  if target[i] == \"Yes\":\n",
        "\n",
        "    for x in range(len(specific_h)):\n",
        "    #Change the value of S & G only if values change\n",
        "      if h[x]!= specific_h[x]:\n",
        "        specific_h[x] ='?'\n",
        "        general_h[x][x] ='?'\n",
        "\n",
        "  #Checking if the hypothesis has a negative target\n",
        "  if target[i] == \"No\":\n",
        "    for x in range(len(specific_h)):\n",
        "      #For negative hypothesis change values only in G\n",
        "      if h[x]!= specific_h[x]:\n",
        "        general_h[x][x] = specific_h[x]\n",
        "      else:\n",
        "        general_h[x][x] = '?'\n",
        "\n",
        " indices = [i for i, val in enumerate(general_h) if val ==['?', '?', '?','?', '?', '?']]\n",
        " for i in indices:\n",
        "  general_h.remove(['?', '?', '?', '?', '?', '?'])\n",
        " return specific_h, general_h\n",
        "s_final, g_final = learn(concepts, target)\n",
        "print(\"Final Specific_h:\", s_final, sep=\"\\n\")\n",
        "print(\"Final General_h:\", g_final, sep=\"\\n\")"
      ],
      "metadata": {
        "colab": {
          "base_uri": "https://localhost:8080/"
        },
        "id": "ZM4cfLt49929",
        "outputId": "fe20ac2d-710c-4fb5-d8d4-35100972c447"
      },
      "execution_count": 8,
      "outputs": [
        {
          "output_type": "stream",
          "name": "stdout",
          "text": [
            "Initialization of Specific_h and General_h\n",
            "specific_h= ['Sunny' 'Warm' 'Normal' 'Strong' 'Warm' 'Same']\n",
            "general_h= [['?', '?', '?', '?', '?', '?'], ['?', '?', '?', '?', '?', '?'], ['?', '?', '?', '?', '?', '?'], ['?', '?', '?', '?', '?', '?'], ['?', '?', '?', '?', '?', '?'], ['?', '?', '?', '?', '?', '?']]\n",
            "Final Specific_h:\n",
            "['Sunny' 'Warm' '?' 'Strong' '?' '?']\n",
            "Final General_h:\n",
            "[['Sunny', '?', '?', '?', '?', '?'], ['?', 'Warm', '?', '?', '?', '?']]\n"
          ]
        }
      ]
    }
  ]
}